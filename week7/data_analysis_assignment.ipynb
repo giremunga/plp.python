{
 "cells": [
  {
   "cell_type": "code",
   "execution_count": null,
   "id": "fbd0a8f6",
   "metadata": {
    "vscode": {
     "languageId": "plaintext"
    }
   },
   "outputs": [],
   "source": [
    "\n",
    "# Data Analysis & Visualization Assignment\n",
    "\n",
    "#  Import Libraries \n",
    "import pandas as pd\n",
    "import seaborn as sns\n",
    "import matplotlib.pyplot as plt\n",
    "from sklearn.datasets import load_iris\n",
    "\n",
    "#  Load and Explore the Dataset \n",
    "\n",
    "# Load iris dataset from sklearn\n",
    "iris = load_iris(as_frame=True)\n",
    "df = iris.frame\n",
    "\n",
    "# Display first few rows\n",
    "df.head()\n"
   ]
  },
  {
   "cell_type": "code",
   "execution_count": null,
   "id": "705f1e1d",
   "metadata": {
    "vscode": {
     "languageId": "plaintext"
    }
   },
   "outputs": [],
   "source": [
    "print(df.info())\n",
    "print(df.isnull().sum())\n",
    "print(df.describe())\n"
   ]
  },
  {
   "cell_type": "code",
   "execution_count": null,
   "id": "5f024e81",
   "metadata": {
    "vscode": {
     "languageId": "plaintext"
    }
   },
   "outputs": [],
   "source": [
    "df.groupby(\"target\").mean()\n"
   ]
  },
  {
   "cell_type": "code",
   "execution_count": null,
   "id": "9bd646c2",
   "metadata": {
    "vscode": {
     "languageId": "plaintext"
    }
   },
   "outputs": [],
   "source": [
    "# Line chart\n",
    "plt.plot(df.index, df[\"sepal length (cm)\"])\n",
    "plt.title(\"Sepal Length Trend\")\n",
    "plt.show()\n",
    "\n",
    "# Bar chart\n",
    "sns.barplot(x=\"target\", y=\"petal length (cm)\", data=df)\n",
    "plt.title(\"Avg Petal Length per Species\")\n",
    "plt.show()\n",
    "\n",
    "# Histogram\n",
    "plt.hist(df[\"sepal width (cm)\"], bins=15)\n",
    "plt.title(\"Sepal Width Distribution\")\n",
    "plt.show()\n",
    "\n",
    "# Scatter\n",
    "sns.scatterplot(x=\"sepal length (cm)\", y=\"petal length (cm)\", hue=\"target\", data=df)\n",
    "plt.title(\"Sepal vs Petal Length\")\n",
    "plt.show()\n"
   ]
  },
  {
   "cell_type": "code",
   "execution_count": null,
   "id": "2823ace0",
   "metadata": {
    "vscode": {
     "languageId": "plaintext"
    }
   },
   "outputs": [],
   "source": [
    "try:\n",
    "    pd.read_csv(\"missing_file.csv\")\n",
    "except FileNotFoundError:\n",
    "    print(\"Error: File not found.\")\n"
   ]
  }
 ],
 "metadata": {
  "language_info": {
   "name": "python"
  }
 },
 "nbformat": 4,
 "nbformat_minor": 5
}
